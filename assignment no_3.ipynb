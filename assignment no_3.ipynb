{
 "cells": [
  {
   "cell_type": "code",
   "execution_count": 3,
   "id": "008dd21c",
   "metadata": {},
   "outputs": [
    {
     "name": "stdout",
     "output_type": "stream",
     "text": [
      "Twinkle, twinkle, little star, \n",
      "\tHow I wonder what you are! \n",
      "\t\tUp above the world so high, \n",
      "\t\tLike a diamond in the sky. \n",
      "Twinkle, twinkle, little star, \n",
      "\tHow I wonder what you are!\n"
     ]
    }
   ],
   "source": [
    "#Assignment no:03 \n",
    "\n",
    "#Question no:01\n",
    "\n",
    "print(\"Twinkle, twinkle, little star, \\n\\tHow I wonder what you are! \\n\\t\\tUp above the world so high, \\n\\t\\tLike a diamond in the sky. \\nTwinkle, twinkle, little star, \\n\\tHow I wonder what you are!\")\n"
   ]
  },
  {
   "cell_type": "code",
   "execution_count": 4,
   "id": "df394467",
   "metadata": {},
   "outputs": [
    {
     "name": "stdout",
     "output_type": "stream",
     "text": [
      "Pythonr Version\n",
      "3.8.8 (default, Apr 13 2021, 15:08:03) [MSC v.1916 64 bit (AMD64)]\n",
      "System Info\n",
      "sys.version_info(major=3, minor=8, micro=8, releaselevel='final', serial=0)\n"
     ]
    }
   ],
   "source": [
    "#Question no:02\n",
    "\n",
    "import sys\n",
    "print (\"Pythonr Version\")\n",
    "print (sys.version)\n",
    "print (\"System Info\")\n",
    "print (sys.version_info)"
   ]
  },
  {
   "cell_type": "code",
   "execution_count": 5,
   "id": "37d16211",
   "metadata": {},
   "outputs": [
    {
     "name": "stdout",
     "output_type": "stream",
     "text": [
      "Current date and time : \n",
      "2021-10-23 00:54:28\n"
     ]
    }
   ],
   "source": [
    "#Question no:03\n",
    "\n",
    "import datetime\n",
    "now = datetime.datetime.now()\n",
    "print (\"Current date and time : \")\n",
    "print (now.strftime(\"%Y-%m-%d %H:%M:%S\"))"
   ]
  },
  {
   "cell_type": "code",
   "execution_count": null,
   "id": "9bb2c269",
   "metadata": {},
   "outputs": [],
   "source": [
    "#Question no:04\n",
    "\n",
    "from math import pi\n",
    "r = float(input (\"Input the radius of the circle : \"))\n",
    "print (\"The area of the circle with radius \" + str(r) + \" is: \" + str(pi * r**2))"
   ]
  },
  {
   "cell_type": "code",
   "execution_count": null,
   "id": "0228d9e4",
   "metadata": {},
   "outputs": [],
   "source": [
    "#Question no:05\n",
    "\n",
    "first_name = input(\"Input your First Name : \")\n",
    "last_name = input(\"Input your Last Name : \")\n",
    "print (\"Hello  \" + last_name + \" \" + first_name)"
   ]
  },
  {
   "cell_type": "code",
   "execution_count": 2,
   "id": "619bc8bb",
   "metadata": {},
   "outputs": [
    {
     "name": "stdout",
     "output_type": "stream",
     "text": [
      "enter first number: 2\n",
      "enter second number: 2\n",
      "sum: 4\n"
     ]
    }
   ],
   "source": [
    "#Question no:06\n",
    "\n",
    "a = int(input(\"enter first number: \"))\n",
    "b = int(input(\"enter second number: \"))\n",
    "sum = a + b\n",
    "print(\"sum:\", sum)"
   ]
  },
  {
   "cell_type": "code",
   "execution_count": null,
   "id": "13f35efa",
   "metadata": {},
   "outputs": [],
   "source": [
    "#Question no:07\n",
    "\n",
    "m1 = int(input(\"Enter first subject marks: \"))\n",
    "m2 = int(input(\"Enter second subject marks: \"))\n",
    "m3 = int(input(\"Enter third subject marks: \"))\n",
    "m4 = int(input(\"Enter fourth subject marks: \"))\n",
    "m5 = int(input(\"Enter fifth subject marks: \"))\n",
    "avg = (m1 + m2+ m3+ m4 + m5) / 5;\n",
    "print(\"Average Marks =\", avg)"
   ]
  },
  {
   "cell_type": "code",
   "execution_count": null,
   "id": "c6c2f20a",
   "metadata": {},
   "outputs": [],
   "source": [
    "#Question no:08\n",
    "\n",
    "num = int(input(\"Enter a num\"))\n",
    "if (num % 2) == 0:\n",
    "    print(\"Even number\")\n",
    "else:\n",
    "    print(\"Odd number\")"
   ]
  },
  {
   "cell_type": "code",
   "execution_count": null,
   "id": "c2b3b99f",
   "metadata": {},
   "outputs": [],
   "source": [
    "#Question no:09\n",
    "\n",
    "animals = [\"rabbit\", \"cat\", \"dog\"]\n",
    "print (\"Lentgth of the list is: \" + len(animals))"
   ]
  },
  {
   "cell_type": "code",
   "execution_count": null,
   "id": "f2afbc6d",
   "metadata": {},
   "outputs": [],
   "source": [
    "#Question no:10\n",
    "\n",
    "a=[]\n",
    "\n",
    "size = int(input(\"How many numbers do you want to enter?\"))\n",
    "for i in range(size):\n",
    "    val = int(input(\"Enter number\"))\n",
    "    a.append(val)\n",
    "sum = 0 \n",
    "for i in range(size):\n",
    "    sum = sum+a[i]\n",
    "    print(\"sum of the elements =\",sum)"
   ]
  },
  {
   "cell_type": "code",
   "execution_count": null,
   "id": "5095bf69",
   "metadata": {},
   "outputs": [],
   "source": [
    "#Question no:11\n",
    "\n",
    "a = []\n",
    "size = int(input(\"Enter the sizw of the list\"))\n",
    "\n",
    "for i in range(size):\n",
    "    val = int(input(\"Enter the number\"))\n",
    "    a.append(val)\n",
    "max = a[0]\n",
    "for i in range(size):\n",
    "    if (a[i] > max):\n",
    "        max = a[i]\n",
    "print(\"Max number in list is =\", max)"
   ]
  },
  {
   "cell_type": "code",
   "execution_count": null,
   "id": "b0070e58",
   "metadata": {},
   "outputs": [],
   "source": [
    "#Question no:12\n",
    "\n",
    "a = [1, 1, 2, 3, 5, 8, 13, 21, 34, 55, 89]\n",
    "for i in a:\n",
    "    if i < 5:\n",
    "        print(i)"
   ]
  }
 ],
 "metadata": {
  "kernelspec": {
   "display_name": "Python 3",
   "language": "python",
   "name": "python3"
  },
  "language_info": {
   "codemirror_mode": {
    "name": "ipython",
    "version": 3
   },
   "file_extension": ".py",
   "mimetype": "text/x-python",
   "name": "python",
   "nbconvert_exporter": "python",
   "pygments_lexer": "ipython3",
   "version": "3.8.8"
  }
 },
 "nbformat": 4,
 "nbformat_minor": 5
}
