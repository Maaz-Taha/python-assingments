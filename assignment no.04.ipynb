{
 "cells": [
  {
   "cell_type": "code",
   "execution_count": null,
   "id": "61020c3a",
   "metadata": {},
   "outputs": [],
   "source": [
    "## question no.1 (simple calculator)\n",
    "\n",
    "print(\"Select an operator by pressing its number\\n 1, Add \\n 2. Subtract \\n 3. Multiply \\n 4. Devide \\n 5. Power\")\n",
    "operation = int(input(\"Enter the number of an operator:\"))\n",
    "num1 = int(input(\"Enter first num:\"))\n",
    "num2 = int(input(\"Enter second num:\"))\n",
    "if operation == 1:\n",
    "    print(num1 + num2)\n",
    "elif operation == 2:\n",
    "    print(num1 - num2)\n",
    "elif operation == 3:\n",
    "    print(num1 * num2)\n",
    "elif operation == 4:\n",
    "    print(num1 / num2)\n",
    "elif operation == 5:\n",
    "    print(num1**num2)\n",
    "else:\n",
    "    print(\"Nothing to perfrom\")"
   ]
  },
  {
   "cell_type": "code",
   "execution_count": 19,
   "id": "031df6b2",
   "metadata": {},
   "outputs": [
    {
     "name": "stdout",
     "output_type": "stream",
     "text": [
      "['1', '2', '3', '4', '5', '6']\n"
     ]
    }
   ],
   "source": [
    "## question no.2\n",
    "\n",
    "\n",
    "a = ['1 2 3', '4 5 6', 'invalid']\n",
    "numbers = []\n",
    "for item in a:\n",
    "    for subitem in item. split():\n",
    "        if(subitem. isdigit()):\n",
    "            numbers. append(subitem)\n",
    "print(numbers)"
   ]
  },
  {
   "cell_type": "code",
   "execution_count": 25,
   "id": "5329c15e",
   "metadata": {},
   "outputs": [
    {
     "name": "stdout",
     "output_type": "stream",
     "text": [
      "{0: 'a', 1: 'b', 2: 'c'}\n"
     ]
    }
   ],
   "source": [
    "## question no.3\n",
    "\n",
    "a = {0:\"a\", 1:\"b\"}\n",
    "a[2] = \"c\"\n",
    "print(a)"
   ]
  },
  {
   "cell_type": "code",
   "execution_count": 24,
   "id": "42e4dbaf",
   "metadata": {},
   "outputs": [
    {
     "name": "stdout",
     "output_type": "stream",
     "text": [
      "6\n"
     ]
    }
   ],
   "source": [
    "## question no.4\n",
    "\n",
    "a_dict = {\"a\":1, \"b\":2, \"c\": 3}\n",
    "values = a_dict.values()\n",
    "total = sum(values)\n",
    "print(total)"
   ]
  },
  {
   "cell_type": "code",
   "execution_count": 20,
   "id": "431806f4",
   "metadata": {},
   "outputs": [
    {
     "name": "stdout",
     "output_type": "stream",
     "text": [
      "Enter a key:9\n",
      "key not found\n"
     ]
    }
   ],
   "source": [
    "## question no.6\n",
    "\n",
    "a = {0:\"a\", 1:\"b\", 2:\"c\", 3:\"d\"}\n",
    "inp = int(input(\"Enter a key:\"))\n",
    "for i in a.keys():\n",
    "    if i==inp:\n",
    "        print(\"Key already exist\")\n",
    "        break\n",
    "else:\n",
    "    print(\"key not found\")"
   ]
  }
 ],
 "metadata": {
  "kernelspec": {
   "display_name": "Python 3",
   "language": "python",
   "name": "python3"
  },
  "language_info": {
   "codemirror_mode": {
    "name": "ipython",
    "version": 3
   },
   "file_extension": ".py",
   "mimetype": "text/x-python",
   "name": "python",
   "nbconvert_exporter": "python",
   "pygments_lexer": "ipython3",
   "version": "3.8.8"
  }
 },
 "nbformat": 4,
 "nbformat_minor": 5
}
